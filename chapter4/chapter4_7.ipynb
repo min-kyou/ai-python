{
 "cells": [
  {
   "cell_type": "code",
   "execution_count": 1,
   "id": "81bfb8b0-eba4-4bda-bfce-4aa3fb28095c",
   "metadata": {},
   "outputs": [],
   "source": [
    "import datetime \n",
    "import json \n",
    "import numpy as np \n",
    "from sklearn import covariance, cluster \n",
    "import pandas as pd\n",
    "import pandas_datareader.data as pdd"
   ]
  },
  {
   "cell_type": "code",
   "execution_count": 2,
   "id": "9a286bd8-7131-4cbc-a0fe-341ea49aab5d",
   "metadata": {},
   "outputs": [],
   "source": [
    "input_file = 'company_symbol_mapping.json'"
   ]
  },
  {
   "cell_type": "code",
   "execution_count": 3,
   "id": "e10db7b1-1dc1-41a6-84d3-01820c590304",
   "metadata": {},
   "outputs": [],
   "source": [
    "with open(input_file, 'r') as f: \n",
    "    company_symbols_map = json.loads(f.read())\n",
    "symbols = company_symbols_map.keys()"
   ]
  },
  {
   "cell_type": "code",
   "execution_count": null,
   "id": "5b148fa9-b18f-4e2d-b8f6-af45d161cd89",
   "metadata": {},
   "outputs": [],
   "source": []
  }
 ],
 "metadata": {
  "kernelspec": {
   "display_name": "Python 3 (ipykernel)",
   "language": "python",
   "name": "python3"
  },
  "language_info": {
   "codemirror_mode": {
    "name": "ipython",
    "version": 3
   },
   "file_extension": ".py",
   "mimetype": "text/x-python",
   "name": "python",
   "nbconvert_exporter": "python",
   "pygments_lexer": "ipython3",
   "version": "3.12.2"
  }
 },
 "nbformat": 4,
 "nbformat_minor": 5
}
