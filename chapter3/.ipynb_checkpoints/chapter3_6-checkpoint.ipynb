{
 "cells": [
  {
   "cell_type": "code",
   "execution_count": 1,
   "id": "acbfd19e-9070-4a4c-904a-b11d3fd5b3c4",
   "metadata": {},
   "outputs": [],
   "source": [
    "import numpy as np \n",
    "from sklearn.ensemble import ExtraTreesClassifier \n",
    "from sklearn import model_selection\n",
    "from sklearn.metrics import classification_report"
   ]
  },
  {
   "cell_type": "code",
   "execution_count": 2,
   "id": "01d053f1-26d3-4172-baaa-4da6e8f07b69",
   "metadata": {},
   "outputs": [],
   "source": [
    "input_file = 'data_random_forests.txt' \n",
    "data = np.loadtxt(input_file, delimiter=',') \n",
    "X, y = data[:, :-1], data[:, -1] \n",
    "class_0 = np.array(X[y==0]) \n",
    "class_1 = np.array(X[y==1]) \n",
    "class_2 = np.array(X[y==2]) \n",
    "X_train, X_test, y_train, y_test = model_selection.train_test_split(X, y, test_size=0.25, random_state=5)"
   ]
  },
  {
   "cell_type": "code",
   "execution_count": 3,
   "id": "728cac89-b1d7-44ed-81f7-c88d9237db07",
   "metadata": {},
   "outputs": [],
   "source": [
    "parameter_grid = [ {'n_estimators': [100], 'max_depth': [2, 4, 7, 12, 16]}, \n",
    "                   {'max_depth': [4], 'n_estimators': [25, 50, 100, 250]} \n",
    "                 ]"
   ]
  },
  {
   "cell_type": "code",
   "execution_count": 4,
   "id": "f37a58b6-15a7-45b3-8b1e-d7e6bc22b412",
   "metadata": {},
   "outputs": [],
   "source": [
    "metrics = ['precision_weighted', 'recall_weighted']"
   ]
  },
  {
   "cell_type": "code",
   "execution_count": 6,
   "id": "2e576cb9-ad04-4fca-94a0-c628dbb2afbd",
   "metadata": {
    "scrolled": true
   },
   "outputs": [
    {
     "name": "stdout",
     "output_type": "stream",
     "text": [
      "\n",
      "##### Searching optimal parameters for precision_weighted\n",
      "\n",
      "Grid scores for the parameter grid:\n",
      "{'max_depth': 2, 'n_estimators': 100} --> 0.85\n",
      "{'max_depth': 4, 'n_estimators': 100} --> 0.841\n",
      "{'max_depth': 7, 'n_estimators': 100} --> 0.844\n",
      "{'max_depth': 12, 'n_estimators': 100} --> 0.832\n",
      "{'max_depth': 16, 'n_estimators': 100} --> 0.816\n",
      "{'max_depth': 4, 'n_estimators': 25} --> 0.846\n",
      "{'max_depth': 4, 'n_estimators': 50} --> 0.84\n",
      "{'max_depth': 4, 'n_estimators': 100} --> 0.841\n",
      "{'max_depth': 4, 'n_estimators': 250} --> 0.845\n",
      "\n",
      "Best parameters: {'max_depth': 2, 'n_estimators': 100}\n",
      "\n",
      "Performance report:\n",
      "\n",
      "              precision    recall  f1-score   support\n",
      "\n",
      "         0.0       0.94      0.81      0.87        79\n",
      "         1.0       0.81      0.86      0.83        70\n",
      "         2.0       0.83      0.91      0.87        76\n",
      "\n",
      "    accuracy                           0.86       225\n",
      "   macro avg       0.86      0.86      0.86       225\n",
      "weighted avg       0.86      0.86      0.86       225\n",
      "\n",
      "\n",
      "##### Searching optimal parameters for recall_weighted\n",
      "\n",
      "Grid scores for the parameter grid:\n",
      "{'max_depth': 2, 'n_estimators': 100} --> 0.843\n",
      "{'max_depth': 4, 'n_estimators': 100} --> 0.837\n",
      "{'max_depth': 7, 'n_estimators': 100} --> 0.841\n",
      "{'max_depth': 12, 'n_estimators': 100} --> 0.83\n",
      "{'max_depth': 16, 'n_estimators': 100} --> 0.815\n",
      "{'max_depth': 4, 'n_estimators': 25} --> 0.843\n",
      "{'max_depth': 4, 'n_estimators': 50} --> 0.836\n",
      "{'max_depth': 4, 'n_estimators': 100} --> 0.837\n",
      "{'max_depth': 4, 'n_estimators': 250} --> 0.841\n",
      "\n",
      "Best parameters: {'max_depth': 2, 'n_estimators': 100}\n",
      "\n",
      "Performance report:\n",
      "\n",
      "              precision    recall  f1-score   support\n",
      "\n",
      "         0.0       0.94      0.81      0.87        79\n",
      "         1.0       0.81      0.86      0.83        70\n",
      "         2.0       0.83      0.91      0.87        76\n",
      "\n",
      "    accuracy                           0.86       225\n",
      "   macro avg       0.86      0.86      0.86       225\n",
      "weighted avg       0.86      0.86      0.86       225\n",
      "\n"
     ]
    }
   ],
   "source": [
    "for metric in metrics: \n",
    "    print(\"\\n##### Searching optimal parameters for\", metric) \n",
    "    classifier = model_selection.GridSearchCV( \n",
    "                     ExtraTreesClassifier(random_state=0),\n",
    "                     parameter_grid, cv=5, scoring=metric) \n",
    "    classifier.fit(X_train, y_train)\n",
    "    print(\"\\nGrid scores for the parameter grid:\") \n",
    "    for params, avg_score in zip(classifier.cv_results_['params'],\n",
    "                                 classifier.cv_results_['mean_test_score']):  \n",
    "        print(params, '-->', round(avg_score, 3)) \n",
    "    print(\"\\nBest parameters:\", classifier.best_params_)\n",
    "    y_pred = classifier.predict(X_test) \n",
    "    print(\"\\nPerformance report:\\n\") \n",
    "    print(classification_report(y_test, y_pred))"
   ]
  },
  {
   "cell_type": "code",
   "execution_count": null,
   "id": "bb815b86-8318-4c6a-a5ff-6d4e835f25ab",
   "metadata": {},
   "outputs": [],
   "source": []
  }
 ],
 "metadata": {
  "kernelspec": {
   "display_name": "Python 3 (ipykernel)",
   "language": "python",
   "name": "python3"
  },
  "language_info": {
   "codemirror_mode": {
    "name": "ipython",
    "version": 3
   },
   "file_extension": ".py",
   "mimetype": "text/x-python",
   "name": "python",
   "nbconvert_exporter": "python",
   "pygments_lexer": "ipython3",
   "version": "3.12.2"
  }
 },
 "nbformat": 4,
 "nbformat_minor": 5
}
