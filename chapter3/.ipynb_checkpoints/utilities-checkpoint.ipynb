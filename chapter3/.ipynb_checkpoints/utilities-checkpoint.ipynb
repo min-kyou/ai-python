{
 "cells": [
  {
   "cell_type": "code",
   "execution_count": 1,
   "id": "470568fa-9172-4962-b230-763ebb1c256d",
   "metadata": {},
   "outputs": [],
   "source": [
    "import numpy as np \n",
    "import matplotlib.pyplot as plt \n",
    "%matplotlib inline"
   ]
  },
  {
   "cell_type": "code",
   "execution_count": 3,
   "id": "ee43af25-faf8-4a24-96df-56162c3f6ecf",
   "metadata": {},
   "outputs": [],
   "source": [
    "def visualize_classifier(classifier, X, y, title=''): \n",
    "    min_x, max_x = X[:, 0].min() - 1.0, X[:, 0].max() + 1.0 \n",
    "    min_y, max_y = X[:, 1].min() - 1.0, X[:, 1].max() + 1.0\n",
    "    \n",
    "    mesh_step_size = 0.01 \n",
    "    x_vals, y_vals = np.meshgrid(np.arange(min_x, max_x, mesh_step_size),\n",
    "                                 np.arange(min_y, max_y, mesh_step_size))\n",
    "    \n",
    "    output = classifier.predict(np.c_[x_vals.ravel(), y_vals.ravel()]) \n",
    "    output = output.reshape(x_vals.shape)\n",
    "\n",
    "    plt.figure() \n",
    "    plt.title(title)\n",
    "    plt.pcolormesh(x_vals, y_vals, output, cmap=plt.cm.gray) \n",
    "    plt.scatter(X[:, 0], X[:, 1], c=y, s=75, edgecolors='black', linewidth=1, cmap=plt.cm.Paired)\n",
    "\n",
    "    plt.xlim(x_vals.min(), x_vals.max()) \n",
    "    plt.ylim(y_vals.min(), y_vals.max()) \n",
    "    plt.xticks((np.arange(int(min_x), int(max_x), 1.0))) \n",
    "    plt.yticks((np.arange(int(min_y), int(max_y), 1.0))) \n",
    "    plt.show()"
   ]
  },
  {
   "cell_type": "code",
   "execution_count": 4,
   "id": "6ebe4d9e-f853-4134-ab72-03dad11629f3",
   "metadata": {},
   "outputs": [
    {
     "ename": "TypeError",
     "evalue": "list indices must be integers or slices, not tuple",
     "output_type": "error",
     "traceback": [
      "\u001b[1;31m---------------------------------------------------------------------------\u001b[0m",
      "\u001b[1;31mTypeError\u001b[0m                                 Traceback (most recent call last)",
      "Cell \u001b[1;32mIn[4], line 2\u001b[0m\n\u001b[0;32m      1\u001b[0m arr \u001b[38;5;241m=\u001b[39m [\u001b[38;5;241m0\u001b[39m, \u001b[38;5;241m1\u001b[39m, \u001b[38;5;241m2\u001b[39m, \u001b[38;5;241m3\u001b[39m, \u001b[38;5;241m4\u001b[39m]\n\u001b[1;32m----> 2\u001b[0m \u001b[38;5;28mprint\u001b[39m(\u001b[43marr\u001b[49m\u001b[43m[\u001b[49m\u001b[43m:\u001b[49m\u001b[43m,\u001b[49m\u001b[43m \u001b[49m\u001b[38;5;241;43m0\u001b[39;49m\u001b[43m]\u001b[49m)\n",
      "\u001b[1;31mTypeError\u001b[0m: list indices must be integers or slices, not tuple"
     ]
    }
   ],
   "source": []
  },
  {
   "cell_type": "code",
   "execution_count": null,
   "id": "1ed3db69-b02a-4980-980f-40d33f71ce7f",
   "metadata": {},
   "outputs": [],
   "source": []
  }
 ],
 "metadata": {
  "kernelspec": {
   "display_name": "Python 3 (ipykernel)",
   "language": "python",
   "name": "python3"
  },
  "language_info": {
   "codemirror_mode": {
    "name": "ipython",
    "version": 3
   },
   "file_extension": ".py",
   "mimetype": "text/x-python",
   "name": "python",
   "nbconvert_exporter": "python",
   "pygments_lexer": "ipython3",
   "version": "3.12.2"
  }
 },
 "nbformat": 4,
 "nbformat_minor": 5
}
