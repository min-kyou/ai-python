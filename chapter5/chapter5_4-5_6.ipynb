{
 "cells": [
  {
   "cell_type": "code",
   "execution_count": 4,
   "id": "ab3c6f8d-27f3-4c68-865c-e97da9855d2c",
   "metadata": {},
   "outputs": [],
   "source": [
    "import json \n",
    "import numpy as np "
   ]
  },
  {
   "cell_type": "code",
   "execution_count": 5,
   "id": "8b797123-d2c1-40ca-9501-3a305f526639",
   "metadata": {},
   "outputs": [],
   "source": [
    "# user1とuser2の間のユークリッドスコアを計算する\n",
    "def euclidean_score(dataset, user1, user2): \n",
    "    if user1 not in dataset: \n",
    "        raise TypeError('Cannot find ' + user1 + ' in the dataset') \n",
    "    if user2 not in dataset: \n",
    "        raise TypeError('Cannot find ' + user2 + ' in the dataset')\n",
    "    common_movies = {} \n",
    "    for item in dataset[user1]: \n",
    "        if item in dataset[user2]: \n",
    "            common_movies[item] = 1\n",
    "    if len(common_movies) == 0: \n",
    "        return 0 \n",
    "    squared_diff = [] \n",
    "    for item in common_movies:\n",
    "        squared_diff.append(np.square(dataset[user1][item] - dataset[user2][item])) \n",
    "    return 1 / (1 + np.sqrt(np.sum(squared_diff)))"
   ]
  },
  {
   "cell_type": "code",
   "execution_count": 6,
   "id": "db9eda2c-d22b-46ed-a2b7-1832d326f39b",
   "metadata": {},
   "outputs": [],
   "source": [
    "def pearson_score(dataset, user1, user2): \n",
    "    if user1 not in dataset: \n",
    "        raise TypeError('Cannot find ' + user1 + ' in the dataset') \n",
    "    if user2 not in dataset: \n",
    "        raise TypeError('Cannot find ' + user2 + ' in the dataset') \n",
    "    common_movies = {} \n",
    "    for item in dataset[user1]: \n",
    "        if item in dataset[user2]: \n",
    "            common_movies[item] = 1\n",
    "    num_ratings = len(common_movies) \n",
    "    if num_ratings == 0: \n",
    "        return 0 \n",
    "    user1_sum = np.sum([dataset[user1][item] for item in common_movies]) \n",
    "    user2_sum = np.sum([dataset[user2][item] for item in common_movies]) \n",
    "    user1_squared_sum = np.sum([np.square(dataset[user1][item]) \n",
    "                                    for item in common_movies]) \n",
    "    user2_squared_sum = np.sum([np.square(dataset[user2][item])\n",
    "                                    for item in common_movies])\n",
    "    sum_of_products = np.sum([dataset[user1][item] * dataset[user2][item]\n",
    "                                  for item in common_movies]) \n",
    "    Sxy = sum_of_products - (user1_sum * user2_sum / num_ratings) \n",
    "    Sxx = user1_squared_sum - np.square(user1_sum) / num_ratings \n",
    "    Syy = user2_squared_sum - np.square(user2_sum) / num_ratings\n",
    "    if Sxx * Syy == 0: \n",
    "        return 0 \n",
    "    return Sxy / np.sqrt(Sxx * Syy)"
   ]
  },
  {
   "cell_type": "code",
   "execution_count": 7,
   "id": "62f39099-5226-4de6-b0f5-0a2521b11539",
   "metadata": {},
   "outputs": [],
   "source": [
    "ratings_file = 'ratings.json' \n",
    "with open(ratings_file, 'r') as f: \n",
    "    data = json.loads(f.read()) "
   ]
  },
  {
   "cell_type": "code",
   "execution_count": 8,
   "id": "2f37d4e8-a189-4262-9ee6-b2c675f5d288",
   "metadata": {},
   "outputs": [
    {
     "name": "stdout",
     "output_type": "stream",
     "text": [
      "Euclidean score:\n",
      "0.585786437626905\n",
      "Pearson score:\n",
      "0.9909924304103233\n"
     ]
    }
   ],
   "source": [
    "user1 = 'David Smith'\n",
    "user2 = 'Bill Duffy'\n",
    "print(\"Euclidean score:\") \n",
    "print(euclidean_score(data, user1, user2)) \n",
    "print(\"Pearson score:\") \n",
    "print(pearson_score(data, user1, user2))"
   ]
  },
  {
   "cell_type": "code",
   "execution_count": 9,
   "id": "2eaa1334-5685-4432-8c2c-2e1037abe9ef",
   "metadata": {},
   "outputs": [],
   "source": [
    "# 入力ユーザーに似たユーザーをデータセットから検索する\n",
    "def find_similar_users(dataset, user, num_users): \n",
    "    if user not in dataset: \n",
    "        raise TypeError('Cannot find ' + user + ' in the dataset') \n",
    "    scores = [(x, pearson_score(dataset, user, x))\n",
    "         for x in dataset if x != user]\n",
    "    scores.sort(key=lambda p: p[1], reverse=True)    \n",
    "    return scores[:num_users]"
   ]
  },
  {
   "cell_type": "code",
   "execution_count": 10,
   "id": "0c5284b3-681b-48cc-bef1-cc6cb3f17490",
   "metadata": {},
   "outputs": [
    {
     "name": "stdout",
     "output_type": "stream",
     "text": [
      "Users similar to Bill Duffy:\n",
      "\n",
      "User\t\t\tSimilarity score\n",
      "-----------------------------------------\n",
      "David Smith \t\t 0.99\n",
      "Samuel Miller \t\t 0.88\n",
      "Adam Cohen \t\t 0.86\n"
     ]
    }
   ],
   "source": [
    "user = 'Bill Duffy'\n",
    "print('Users similar to ' + user + ':\\n') \n",
    "similar_users = find_similar_users(data, user, 3) \n",
    "print('User\\t\\t\\tSimilarity score') \n",
    "print('-'*41) \n",
    "for item in similar_users: \n",
    "    print(item[0], '\\t\\t', round(item[1], 2)) "
   ]
  },
  {
   "cell_type": "code",
   "execution_count": 11,
   "id": "6d076c33-9fb2-4f02-b324-122b8a806320",
   "metadata": {},
   "outputs": [],
   "source": [
    "# input_user の推薦をする\n",
    "def get_recommendations(dataset, input_user): \n",
    "    similar_users = find_similar_users(dataset, input_user, 3)\n",
    "    overall_scores = {} \n",
    "    similarity_scores = {}\n",
    "    for user,pscore in similar_users:\n",
    "        for item,iscore in dataset[user].items():\n",
    "            if item in dataset[input_user] and dataset[input_user][item] > 0:\n",
    "                continue\n",
    "            overall_scores[item] = overall_scores.get(item, 0) + iscore * pscore\n",
    "            similarity_scores[item] = similarity_scores.get(item, 0) + pscore\n",
    "    if len(overall_scores) == 0: \n",
    "        return ['No recommendations possible'] \n",
    "    movie_scores = [(item, score / similarity_scores[item]) \n",
    "                      for item,score in overall_scores.items()] \n",
    "    movie_scores.sort(key=lambda p: p[1], reverse=True)\n",
    "    return movie_scores"
   ]
  },
  {
   "cell_type": "code",
   "execution_count": 12,
   "id": "c718371d-e374-46ad-9b2d-514ae0cc82d0",
   "metadata": {},
   "outputs": [
    {
     "name": "stdout",
     "output_type": "stream",
     "text": [
      "Movie recommendations for Chris Duncan:\n",
      "1. Vertigo : 4.5\n",
      "2. Scarface : 4.17\n",
      "3. Goodfellas : 4.0\n",
      "4. Roman Holiday : 1.25\n"
     ]
    }
   ],
   "source": [
    "user = 'Chris Duncan'\n",
    "print(\"Movie recommendations for \" + user + \":\") \n",
    "movies = get_recommendations(data, user) \n",
    "for i, movie in enumerate(movies): \n",
    "    print(str(i+1) + '.', movie[0], ':', round(movie[1],2))"
   ]
  },
  {
   "cell_type": "code",
   "execution_count": null,
   "id": "dc38cef9-6947-4e3e-9fc5-a678dc385cee",
   "metadata": {},
   "outputs": [],
   "source": []
  }
 ],
 "metadata": {
  "kernelspec": {
   "display_name": "Python 3 (ipykernel)",
   "language": "python",
   "name": "python3"
  },
  "language_info": {
   "codemirror_mode": {
    "name": "ipython",
    "version": 3
   },
   "file_extension": ".py",
   "mimetype": "text/x-python",
   "name": "python",
   "nbconvert_exporter": "python",
   "pygments_lexer": "ipython3",
   "version": "3.12.2"
  }
 },
 "nbformat": 4,
 "nbformat_minor": 5
}
