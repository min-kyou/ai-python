{
 "cells": [
  {
   "cell_type": "code",
   "execution_count": 1,
   "id": "ab3c6f8d-27f3-4c68-865c-e97da9855d2c",
   "metadata": {},
   "outputs": [],
   "source": [
    "import json \n",
    "import numpy as np "
   ]
  },
  {
   "cell_type": "code",
   "execution_count": 7,
   "id": "8b797123-d2c1-40ca-9501-3a305f526639",
   "metadata": {},
   "outputs": [],
   "source": [
    "# user1とuser2の間のユークリッドスコアを計算する\n",
    "def euclidean_score(dataset, user1, user2): \n",
    "    if user1 not in dataset: \n",
    "        raise TypeError('Cannot find ' + user1 + ' in the dataset') \n",
    "    if user2 not in dataset: \n",
    "        raise TypeError('Cannot find ' + user2 + ' in the dataset')\n",
    "    common_movies = {} \n",
    "    for item in dataset[user1]: \n",
    "        if item in dataset[user2]: \n",
    "            common_movies[item] = 1\n",
    "    if len(common_movies) == 0: \n",
    "        return 0 \n",
    "    squared_diff = [] \n",
    "    for item in common_movies:\n",
    "        squared_diff.append(np.square(dataset[user1][item] - dataset[user2][item])) \n",
    "    return 1 / (1 + np.sqrt(np.sum(squared_diff)))"
   ]
  },
  {
   "cell_type": "code",
   "execution_count": 8,
   "id": "db9eda2c-d22b-46ed-a2b7-1832d326f39b",
   "metadata": {},
   "outputs": [],
   "source": [
    "def pearson_score(dataset, user1, user2): \n",
    "    if user1 not in dataset: \n",
    "        raise TypeError('Cannot find ' + user1 + ' in the dataset') \n",
    "    if user2 not in dataset: \n",
    "        raise TypeError('Cannot find ' + user2 + ' in the dataset') \n",
    "    common_movies = {} \n",
    "    for item in dataset[user1]: \n",
    "        if item in dataset[user2]: \n",
    "            common_movies[item] = 1\n",
    "    num_ratings = len(common_movies) \n",
    "    if num_ratings == 0: \n",
    "        return 0 \n",
    "    user1_sum = np.sum([dataset[user1][item] for item in common_movies]) \n",
    "    user2_sum = np.sum([dataset[user2][item] for item in common_movies]) \n",
    "    user1_squared_sum = np.sum([np.square(dataset[user1][item]) \n",
    "                                    for item in common_movies]) \n",
    "    user2_squared_sum = np.sum([np.square(dataset[user2][item])\n",
    "                                    for item in common_movies])\n",
    "    sum_of_products = np.sum([dataset[user1][item] * dataset[user2][item]\n",
    "                                  for item in common_movies]) \n",
    "    Sxy = sum_of_products - (user1_sum * user2_sum / num_ratings) \n",
    "    Sxx = user1_squared_sum - np.square(user1_sum) / num_ratings \n",
    "    Syy = user2_squared_sum - np.square(user2_sum) / num_ratings\n",
    "    if Sxx * Syy == 0: \n",
    "        return 0 \n",
    "    return Sxy / np.sqrt(Sxx * Syy)"
   ]
  },
  {
   "cell_type": "code",
   "execution_count": 9,
   "id": "62f39099-5226-4de6-b0f5-0a2521b11539",
   "metadata": {},
   "outputs": [],
   "source": [
    "ratings_file = 'ratings.json' \n",
    "with open(ratings_file, 'r') as f: \n",
    "    data = json.loads(f.read()) "
   ]
  },
  {
   "cell_type": "code",
   "execution_count": 10,
   "id": "2f37d4e8-a189-4262-9ee6-b2c675f5d288",
   "metadata": {},
   "outputs": [
    {
     "name": "stdout",
     "output_type": "stream",
     "text": [
      "Euclidean score:\n",
      "0.585786437626905\n",
      "Pearson score:\n",
      "0.9909924304103233\n"
     ]
    }
   ],
   "source": [
    "user1 = 'David Smith'\n",
    "user2 = 'Bill Duffy'\n",
    "print(\"Euclidean score:\") \n",
    "print(euclidean_score(data, user1, user2)) \n",
    "print(\"Pearson score:\") \n",
    "print(pearson_score(data, user1, user2))"
   ]
  },
  {
   "cell_type": "code",
   "execution_count": null,
   "id": "2eaa1334-5685-4432-8c2c-2e1037abe9ef",
   "metadata": {},
   "outputs": [],
   "source": []
  }
 ],
 "metadata": {
  "kernelspec": {
   "display_name": "Python 3 (ipykernel)",
   "language": "python",
   "name": "python3"
  },
  "language_info": {
   "codemirror_mode": {
    "name": "ipython",
    "version": 3
   },
   "file_extension": ".py",
   "mimetype": "text/x-python",
   "name": "python",
   "nbconvert_exporter": "python",
   "pygments_lexer": "ipython3",
   "version": "3.12.2"
  }
 },
 "nbformat": 4,
 "nbformat_minor": 5
}
