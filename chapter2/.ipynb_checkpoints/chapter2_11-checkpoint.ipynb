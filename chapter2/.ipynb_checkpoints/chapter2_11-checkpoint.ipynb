{
 "cells": [
  {
   "cell_type": "code",
   "execution_count": 1,
   "id": "2a3b1c74-7b8a-44a3-a0f6-aa793c7b5f1d",
   "metadata": {},
   "outputs": [],
   "source": [
    "import numpy as np\n",
    "from sklearn import linear_model\n",
    "import sklearn.metrics as sm\n",
    "import matplotlib.pyplot as plt\n",
    "%matplotlib inline"
   ]
  },
  {
   "cell_type": "code",
   "execution_count": 2,
   "id": "24a5a178-a3df-4976-858a-e97f0df37128",
   "metadata": {},
   "outputs": [],
   "source": [
    "input_file = 'data_singlevar_regr.txt'"
   ]
  },
  {
   "cell_type": "code",
   "execution_count": 4,
   "id": "3c479f22-af21-4e6e-9f34-c6d459d3bb55",
   "metadata": {},
   "outputs": [],
   "source": [
    "data = np.loadtxt(input_file, delimiter=',')\n",
    "X, y = data[:, :-1], data[:, -1]"
   ]
  },
  {
   "cell_type": "code",
   "execution_count": 5,
   "id": "9aa6aa05-d0be-4f21-a1a1-7c7fcb8a03ff",
   "metadata": {},
   "outputs": [
    {
     "data": {
      "image/png": "[encoded data removed]",
      "text/plain": [
       "<Figure size 640x480 with 1 Axes>"
      ]
     },
     "metadata": {},
     "output_type": "display_data"
    }
   ],
   "source": [
    "regressor = linear_model.LinearRegression()\n",
    "regressor.fit(X, y)\n",
    "\n",
    "y_pred = regressor.predict(X)\n",
    "\n",
    "plt.scatter(X, y, color='green')\n",
    "plt.plot(X, y_pred, color='black')\n",
    "plt.show()"
   ]
  },
  {
   "cell_type": "code",
   "execution_count": 6,
   "id": "9d883b49-a1fe-4088-b744-397cacb5c0b4",
   "metadata": {},
   "outputs": [
    {
     "name": "stdout",
     "output_type": "stream",
     "text": [
      "Liniear regressor performance:\n",
      "Mean absolute error = 0.65\n",
      "Mean squared error =  0.62\n",
      "Median absolute error = 0.56\n",
      "Explain variance score = 0.86\n",
      "R2 score = 0.86\n"
     ]
    }
   ],
   "source": [
    "print(\"Liniear regressor performance:\")\n",
    "print(\"Mean absolute error =\", round(sm.mean_absolute_error(y, y_pred), 2))\n",
    "print(\"Mean squared error = \", round(sm.mean_squared_error(y, y_pred), 2))\n",
    "print(\"Median absolute error =\", round(sm.median_absolute_error(y, y_pred), 2))\n",
    "print(\"Explain variance score =\", round(sm.explained_variance_score(y, y_pred), 2))\n",
    "print(\"R2 score =\", round(sm.r2_score(y, y_pred), 2))"
   ]
  },
  {
   "cell_type": "code",
   "execution_count": 7,
   "id": "1cdb9786-f524-4246-ac42-94edc01865f1",
   "metadata": {},
   "outputs": [],
   "source": [
    "import pickle\n",
    "\n",
    "output_model_file = 'model.pkl'\n",
    "with open(output_model_file, 'wb') as f:\n",
    "    pickle.dump(regressor, f)"
   ]
  },
  {
   "cell_type": "code",
   "execution_count": 8,
   "id": "23385867-9d64-4011-8054-ae1e9a5b4514",
   "metadata": {},
   "outputs": [
    {
     "name": "stdout",
     "output_type": "stream",
     "text": [
      "\n",
      "New mean absolute_error = 0.65\n"
     ]
    }
   ],
   "source": [
    "with open(output_model_file, 'rb') as f:\n",
    "    regressor_model = pickle.load(f)\n",
    "\n",
    "y_pred_new = regressor_model.predict(X)\n",
    "print(\"\\nNew mean absolute_error =\", round(sm.mean_absolute_error(y, y_pred_new), 2))"
   ]
  },
  {
   "cell_type": "code",
   "execution_count": null,
   "id": "47ddab46-9b2c-4abb-93c1-d90027cc7fc3",
   "metadata": {},
   "outputs": [],
   "source": []
  }
 ],
 "metadata": {
  "kernelspec": {
   "display_name": "Python 3 (ipykernel)",
   "language": "python",
   "name": "python3"
  },
  "language_info": {
   "codemirror_mode": {
    "name": "ipython",
    "version": 3
   },
   "file_extension": ".py",
   "mimetype": "text/x-python",
   "name": "python",
   "nbconvert_exporter": "python",
   "pygments_lexer": "ipython3",
   "version": "3.12.2"
  }
 },
 "nbformat": 4,
 "nbformat_minor": 5
}
