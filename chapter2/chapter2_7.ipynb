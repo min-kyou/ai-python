{
 "cells": [
  {
   "cell_type": "code",
   "execution_count": 1,
   "id": "11b7b345-d242-4164-9d93-4d2eafd99760",
   "metadata": {},
   "outputs": [],
   "source": [
    "import numpy as np \n",
    "import matplotlib.pyplot as plt\n",
    "%matplotlib inline \n",
    "from sklearn.metrics import confusion_matrix \n",
    "from sklearn.metrics import classification_report"
   ]
  },
  {
   "cell_type": "code",
   "execution_count": 2,
   "id": "559836f9-4b20-4784-89a5-885fef5556fb",
   "metadata": {},
   "outputs": [],
   "source": [
    "true_labels = [2, 0, 0, 2, 4, 4, 1, 0, 3, 3, 3] \n",
    "pred_labels = [2, 1, 0, 2, 4, 3, 1, 0, 1, 3, 3]"
   ]
  },
  {
   "cell_type": "code",
   "execution_count": 3,
   "id": "885ac41a-ebbf-4b64-9016-138e40fc4c6e",
   "metadata": {},
   "outputs": [
    {
     "name": "stdout",
     "output_type": "stream",
     "text": [
      "[[2 1 0 0 0]\n",
      " [0 1 0 0 0]\n",
      " [0 0 2 0 0]\n",
      " [0 1 0 2 0]\n",
      " [0 0 0 1 1]]\n"
     ]
    }
   ],
   "source": [
    "confusion_mat = confusion_matrix(true_labels, pred_labels)\n",
    "print(confusion_mat)"
   ]
  },
  {
   "cell_type": "code",
   "execution_count": null,
   "id": "53cd529e-e33f-4116-a700-39986f47697f",
   "metadata": {},
   "outputs": [],
   "source": []
  }
 ],
 "metadata": {
  "kernelspec": {
   "display_name": "Python 3 (ipykernel)",
   "language": "python",
   "name": "python3"
  },
  "language_info": {
   "codemirror_mode": {
    "name": "ipython",
    "version": 3
   },
   "file_extension": ".py",
   "mimetype": "text/x-python",
   "name": "python",
   "nbconvert_exporter": "python",
   "pygments_lexer": "ipython3",
   "version": "3.12.2"
  }
 },
 "nbformat": 4,
 "nbformat_minor": 5
}
