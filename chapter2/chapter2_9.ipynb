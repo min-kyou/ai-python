{
 "cells": [
  {
   "cell_type": "code",
   "execution_count": 10,
   "id": "5b0f2d16-8583-4b47-a22a-a4a5f41d52c2",
   "metadata": {},
   "outputs": [],
   "source": [
    "import numpy as np \n",
    "import matplotlib.pyplot as plt \n",
    "%matplotlib inline\n",
    "from sklearn import preprocessing \n",
    "from sklearn.svm import LinearSVC \n",
    "from sklearn.multiclass import OneVsOneClassifier \n",
    "from sklearn import model_selection"
   ]
  },
  {
   "cell_type": "code",
   "execution_count": 17,
   "id": "5d84cee3-bc9d-4104-b7c5-cb715aea1486",
   "metadata": {},
   "outputs": [],
   "source": [
    "input_file = 'income_data.txt' "
   ]
  },
  {
   "cell_type": "code",
   "execution_count": 18,
   "id": "90f62b49-c3b0-4da4-acd5-dbc87fbdcae7",
   "metadata": {},
   "outputs": [],
   "source": [
    "Xy = [] \n",
    "count_class1 = 0 \n",
    "count_class2 = 0 \n",
    "max_datapoints = 25000"
   ]
  },
  {
   "cell_type": "code",
   "execution_count": 19,
   "id": "aedafd87-70c5-4c37-b5f4-4e2b0ac6a6c9",
   "metadata": {},
   "outputs": [],
   "source": [
    "with open(input_file, 'r') as f: \n",
    "    for line in f.readlines(): \n",
    "        if count_class1 >= max_datapoints and count_class2 >= max_datapoints: \n",
    "            break \n",
    "        if '?' in line: \n",
    "            continue \n",
    "        data = line[:-1].split(', ') \n",
    "        if data[-1] == '<=50K' and count_class1 < max_datapoints: \n",
    "            Xy.append(data) \n",
    "            count_class1 += 1 \n",
    "        if data[-1] == '>50K' and count_class2 < max_datapoints: \n",
    "            Xy.append(data) \n",
    "            count_class2 += 1"
   ]
  },
  {
   "cell_type": "code",
   "execution_count": 20,
   "id": "850d4403-462a-4bfc-9d9b-548665631f75",
   "metadata": {},
   "outputs": [],
   "source": [
    "Xy = np.array(Xy)"
   ]
  },
  {
   "cell_type": "code",
   "execution_count": 21,
   "id": "73375cc6-1db5-4687-a2e0-ce2db75b6c70",
   "metadata": {},
   "outputs": [],
   "source": [
    "label_encoder = [] \n",
    "Xy_encoded = np.empty(Xy.shape) \n",
    "for i,item in enumerate(Xy[0]): \n",
    "    if item.isdigit(): \n",
    "        Xy_encoded[:, i] = Xy[:, i] \n",
    "    else: \n",
    "        encoder = preprocessing.LabelEncoder()\n",
    "        Xy_encoded[:, i] = encoder.fit_transform(Xy[:, i]) \n",
    "        label_encoder.append(encoder) "
   ]
  },
  {
   "cell_type": "code",
   "execution_count": 23,
   "id": "6f510eac-f161-4d3b-b653-50b2ba98b785",
   "metadata": {},
   "outputs": [],
   "source": [
    "X = Xy_encoded[:, :-1].astype(int) \n",
    "y = Xy_encoded[:, -1].astype(int) "
   ]
  },
  {
   "cell_type": "code",
   "execution_count": 24,
   "id": "37b77920-b06f-41e2-a9fd-c87c5da26014",
   "metadata": {},
   "outputs": [],
   "source": [
    "X_train, X_test, y_train, y_test = model_selection.train_test_split(X, y, \n",
    "                                       test_size=0.2, random_state=5) "
   ]
  },
  {
   "cell_type": "code",
   "execution_count": 25,
   "id": "43c83be7-654a-4998-bc68-86f7ad576717",
   "metadata": {},
   "outputs": [
    {
     "name": "stderr",
     "output_type": "stream",
     "text": [
      "C:\\Users\\int2h\\WorkSpaces\\artificial-intelligence-with-python\\artificial-intelligence-with-python\\Lib\\site-packages\\sklearn\\svm\\_classes.py:31: FutureWarning: The default value of `dual` will change from `True` to `'auto'` in 1.5. Set the value of `dual` explicitly to suppress the warning.\n",
      "  warnings.warn(\n",
      "C:\\Users\\int2h\\WorkSpaces\\artificial-intelligence-with-python\\artificial-intelligence-with-python\\Lib\\site-packages\\sklearn\\svm\\_base.py:1237: ConvergenceWarning: Liblinear failed to converge, increase the number of iterations.\n",
      "  warnings.warn(\n"
     ]
    }
   ],
   "source": [
    "classifier = LinearSVC(random_state=0) \n",
    "classifier.fit(X_train, y_train) \n",
    "y_test_pred = classifier.predict(X_test) "
   ]
  },
  {
   "cell_type": "code",
   "execution_count": 26,
   "id": "353d7b15-f36b-4c72-9ccb-822ec74d8a2a",
   "metadata": {},
   "outputs": [
    {
     "name": "stderr",
     "output_type": "stream",
     "text": [
      "C:\\Users\\int2h\\WorkSpaces\\artificial-intelligence-with-python\\artificial-intelligence-with-python\\Lib\\site-packages\\sklearn\\svm\\_classes.py:31: FutureWarning: The default value of `dual` will change from `True` to `'auto'` in 1.5. Set the value of `dual` explicitly to suppress the warning.\n",
      "  warnings.warn(\n",
      "C:\\Users\\int2h\\WorkSpaces\\artificial-intelligence-with-python\\artificial-intelligence-with-python\\Lib\\site-packages\\sklearn\\svm\\_base.py:1237: ConvergenceWarning: Liblinear failed to converge, increase the number of iterations.\n",
      "  warnings.warn(\n",
      "C:\\Users\\int2h\\WorkSpaces\\artificial-intelligence-with-python\\artificial-intelligence-with-python\\Lib\\site-packages\\sklearn\\svm\\_classes.py:31: FutureWarning: The default value of `dual` will change from `True` to `'auto'` in 1.5. Set the value of `dual` explicitly to suppress the warning.\n",
      "  warnings.warn(\n",
      "C:\\Users\\int2h\\WorkSpaces\\artificial-intelligence-with-python\\artificial-intelligence-with-python\\Lib\\site-packages\\sklearn\\svm\\_base.py:1237: ConvergenceWarning: Liblinear failed to converge, increase the number of iterations.\n",
      "  warnings.warn(\n",
      "C:\\Users\\int2h\\WorkSpaces\\artificial-intelligence-with-python\\artificial-intelligence-with-python\\Lib\\site-packages\\sklearn\\svm\\_classes.py:31: FutureWarning: The default value of `dual` will change from `True` to `'auto'` in 1.5. Set the value of `dual` explicitly to suppress the warning.\n",
      "  warnings.warn(\n"
     ]
    },
    {
     "name": "stdout",
     "output_type": "stream",
     "text": [
      "F1 score: 56.15%\n"
     ]
    },
    {
     "name": "stderr",
     "output_type": "stream",
     "text": [
      "C:\\Users\\int2h\\WorkSpaces\\artificial-intelligence-with-python\\artificial-intelligence-with-python\\Lib\\site-packages\\sklearn\\svm\\_base.py:1237: ConvergenceWarning: Liblinear failed to converge, increase the number of iterations.\n",
      "  warnings.warn(\n"
     ]
    }
   ],
   "source": [
    "f1 = model_selection.cross_val_score(classifier, X, y, \n",
    "                                     scoring='f1_weighted', cv=3) \n",
    "print(\"F1 score: \" + str(round(100*f1.mean(), 2)) + \"%\")"
   ]
  },
  {
   "cell_type": "code",
   "execution_count": 27,
   "id": "d538b874-59ad-466b-b23f-d9e9cfb3510b",
   "metadata": {},
   "outputs": [],
   "source": [
    "input_data = np.array([\n",
    "    ['37', 'Private', '215646', 'HS-grad', '9', 'Never-married', \n",
    "     'Handlers-cleaners', 'Not-in-family', 'White', 'Male', '0', '0', '40',\n",
    "     'United-States'],\n",
    "    ['55', 'Private', '287927', 'Doctorate', '16', 'Married-civ-spouse', \n",
    "     'Exec-managerial', 'Husband', 'White', 'Female', '15000', '0', '40',\n",
    "     'United-States']]) "
   ]
  },
  {
   "cell_type": "code",
   "execution_count": null,
   "id": "c4af00f7-879e-4b31-a309-2f503318ff74",
   "metadata": {},
   "outputs": [],
   "source": [
    "input_data_encoded = np.zeros(input_data.shape) \n",
    "c = 0 \n",
    "for i, item in enumerate(input_data[0]): \n",
    "    if item.isdigit(): \n",
    "        input_data_encoded[:,i] = input_data[:,i] \n",
    "    else: \n",
    "        input_data_encoded[:,i] = label_encoder[c].transform(input_data[:,i]) \n",
    "        c += 1"
   ]
  }
 ],
 "metadata": {
  "kernelspec": {
   "display_name": "Python 3 (ipykernel)",
   "language": "python",
   "name": "python3"
  },
  "language_info": {
   "codemirror_mode": {
    "name": "ipython",
    "version": 3
   },
   "file_extension": ".py",
   "mimetype": "text/x-python",
   "name": "python",
   "nbconvert_exporter": "python",
   "pygments_lexer": "ipython3",
   "version": "3.12.2"
  }
 },
 "nbformat": 4,
 "nbformat_minor": 5
}
