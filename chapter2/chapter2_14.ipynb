{
 "cells": [
  {
   "cell_type": "code",
   "execution_count": 1,
   "id": "9df7300d-10ca-4994-8287-64fa0149ca94",
   "metadata": {},
   "outputs": [],
   "source": [
    "import numpy as np\n",
    "from sklearn import datasets\n",
    "from sklearn.svm import SVR\n",
    "from sklearn.metrics import mean_squared_error, explained_variance_score\n",
    "from sklearn.utils import shuffle"
   ]
  },
  {
   "cell_type": "code",
   "execution_count": 3,
   "id": "ac9605ab-a600-46b3-98eb-d8f10f16e4e1",
   "metadata": {},
   "outputs": [],
   "source": [
    "from sklearn.datasets import fetch_california_housing\n",
    "data = fetch_california_housing()\n"
   ]
  },
  {
   "cell_type": "code",
   "execution_count": 4,
   "id": "a178cd14-307b-4f8e-b163-672f36c3354e",
   "metadata": {},
   "outputs": [],
   "source": [
    "X, y = shuffle(data.data, data.target, random_state=7)"
   ]
  },
  {
   "cell_type": "code",
   "execution_count": 5,
   "id": "0512672e-026a-4d04-a785-3624f966b232",
   "metadata": {},
   "outputs": [],
   "source": [
    "num_training = int(0.8 * len(X)) \n",
    "X_train, y_train = X[:num_training], y[:num_training] \n",
    "X_test, y_test = X[num_training:], y[num_training:] "
   ]
  },
  {
   "cell_type": "code",
   "execution_count": null,
   "id": "ac4c979f-f5b0-4010-8f49-14dbff23c3c7",
   "metadata": {},
   "outputs": [],
   "source": [
    "sv_regressor = SVR(kernel='linear', C=1.0, epsilon=0.1) \n",
    "sv_regressor.fit(X_train, y_train) "
   ]
  },
  {
   "cell_type": "code",
   "execution_count": null,
   "id": "7c93540f-1dd0-4369-90b2-1ee66e84c494",
   "metadata": {},
   "outputs": [],
   "source": [
    "y_test_pred = sv_regressor.predict(X_test) \n",
    "mse = mean_squared_error(y_test, y_test_pred) \n",
    "evs = explained_variance_score(y_test, y_test_pred) \n",
    "print(\"#### Performance ####\") \n",
    "print(\"Mean squared error =\", round(mse, 2)) \n",
    "print(\"Explained variance score =\", round(evs, 2)) "
   ]
  },
  {
   "cell_type": "code",
   "execution_count": null,
   "id": "490497cd-f9cd-434a-ad48-cfcd9f708cda",
   "metadata": {},
   "outputs": [],
   "source": [
    "test_data = [3.7, 0, 18.4, 1, 0.87, 5.95, 91, 2.5052, 26, 666, 20.2, 351.34, 15.27] \n",
    "print(\"Predicted price:\", sv_regressor.predict([test_data])[0]) "
   ]
  },
  {
   "cell_type": "code",
   "execution_count": null,
   "id": "4e2a653d-26bf-4f89-aca9-2c75b866ecf4",
   "metadata": {},
   "outputs": [],
   "source": []
  }
 ],
 "metadata": {
  "kernelspec": {
   "display_name": "Python 3 (ipykernel)",
   "language": "python",
   "name": "python3"
  },
  "language_info": {
   "codemirror_mode": {
    "name": "ipython",
    "version": 3
   },
   "file_extension": ".py",
   "mimetype": "text/x-python",
   "name": "python",
   "nbconvert_exporter": "python",
   "pygments_lexer": "ipython3",
   "version": "3.12.2"
  }
 },
 "nbformat": 4,
 "nbformat_minor": 5
}
